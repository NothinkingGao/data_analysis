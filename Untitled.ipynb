{
 "cells": [
  {
   "cell_type": "code",
   "execution_count": 1,
   "id": "6572f20f-eb33-4791-bd6f-d68464501868",
   "metadata": {
    "tags": []
   },
   "outputs": [
    {
     "name": "stdout",
     "output_type": "stream",
     "text": [
      "            Name            Team  Number Position   Age Height  Weight            College      Salary\n",
      "0  Avery Bradley  Boston Celtics     0.0       PG  25.0    6-2   180.0              Texas   7730337.0\n",
      "1    Jae Crowder  Boston Celtics    99.0       SF  25.0    6-6   235.0          Marquette   6796117.0\n",
      "2   John Holland  Boston Celtics    30.0       SG  27.0    6-5   205.0  Boston University         NaN\n",
      "3    R.J. Hunter  Boston Celtics    28.0       SG  22.0    6-5   185.0      Georgia State   1148640.0\n",
      "4  Jonas Jerebko  Boston Celtics     8.0       PF  29.0   6-10   231.0                NaN   5000000.0\n",
      "5   Amir Johnson  Boston Celtics    90.0       PF  29.0    6-9   240.0                NaN  12000000.0\n",
      "6  Jordan Mickey  Boston Celtics    55.0       PF  21.0    6-8   235.0                LSU   1170960.0\n",
      "7   Kelly Olynyk  Boston Celtics    41.0        C  25.0    7-0   238.0            Gonzaga   2165160.0\n",
      "8   Terry Rozier  Boston Celtics    12.0       PG  22.0    6-2   190.0         Louisville   1824360.0\n",
      "9   Marcus Smart  Boston Celtics    36.0       PG  22.0    6-4   220.0     Oklahoma State   3431040.0\n",
      "           Number         Age      Weight        Salary\n",
      "count  457.000000  457.000000  457.000000  4.460000e+02\n",
      "mean    17.678337   26.938731  221.522976  4.842684e+06\n",
      "std     15.966090    4.404016   26.368343  5.229238e+06\n",
      "min      0.000000   19.000000  161.000000  3.088800e+04\n",
      "25%      5.000000   24.000000  200.000000  1.044792e+06\n",
      "50%     13.000000   26.000000  220.000000  2.839073e+06\n",
      "75%     25.000000   30.000000  240.000000  6.500000e+06\n",
      "max     99.000000   40.000000  307.000000  2.500000e+07\n"
     ]
    }
   ],
   "source": [
    "import pandas as pd\n",
    "import matplotlib.pyplot as plt\n",
    "# 打开csv文件,并读取数据\n",
    "nba_player_data = \"datas/nba.csv\"\n",
    "df = pd.read_csv(nba_player_data)\n",
    "print(df.head(10).to_string())\n",
    "\n",
    "print(df.describe().to_string())"
   ]
  },
  {
   "cell_type": "code",
   "execution_count": null,
   "id": "065aba94-8fcc-4e5a-9106-5b18d0dd4eb0",
   "metadata": {},
   "outputs": [],
   "source": []
  }
 ],
 "metadata": {
  "kernelspec": {
   "display_name": "Python 3 (ipykernel)",
   "language": "python",
   "name": "python3"
  },
  "language_info": {
   "codemirror_mode": {
    "name": "ipython",
    "version": 3
   },
   "file_extension": ".py",
   "mimetype": "text/x-python",
   "name": "python",
   "nbconvert_exporter": "python",
   "pygments_lexer": "ipython3",
   "version": "3.9.0"
  }
 },
 "nbformat": 4,
 "nbformat_minor": 5
}
